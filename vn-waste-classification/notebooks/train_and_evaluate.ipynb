{
 "cells": [
  {
   "cell_type": "markdown",
   "metadata": {},
   "source": [
    "# Train and Evaluate Models\n",
    "\n",
    "This notebook is used for training and evaluating different models for waste classification. It includes code for loading data, training each model separately, saving the trained models, and visualizing the training process."
   ]
  },
  {
   "cell_type": "code",
   "execution_count": 1,
   "metadata": {},
   "outputs": [],
   "source": [
    "import os\n",
    "import torch\n",
    "import matplotlib.pyplot as plt\n",
    "from src.train import train_and_eval\n",
    "from src.config import *  # Assuming config.py contains necessary configurations\n",
    "from src.dataset import WasteDataset\n",
    "from torch.utils.data import DataLoader, WeightedRandomSampler\n",
    "from torchvision import transforms\n",
    "from tqdm import tqdm\n",
    "\n",
    "# Load Data\n",
    "train_dataset = WasteDataset(train, transform=train_transform)\n",
    "val_dataset = WasteDataset(val, transform=val_transform)\n",
    "train_loader = DataLoader(train_dataset, batch_size=32, sampler=sampler)\n",
    "val_loader = DataLoader(val_dataset, batch_size=32, shuffle=False)\n",
    "\n",
    "# Model Names\n",
    "model_names = ['resnet18', 'resnet50', 'mobilenetv2', 'densenet121', 'efficientnet_b0']\n",
    "results = []\n",
    "\n",
    "num_classes = 24\n",
    "\n",
    "for name in model_names:\n",
    "    print(f\"\\n===== Training model: {name} =====\")\n",
    "    model = get_model(name, num_classes)\n",
    "    acc, f1 = train_and_eval(model, train_loader, val_loader, device)\n",
    "    results.append({'model': name, 'accuracy': acc, 'f1_score': f1})\n",
    "\n",
    "# Save the trained model\n",
    "for name in model_names:\n",
    "    model_path = os.path.join('models', f'{name}_model.pth')\n",
    "    torch.save(model.state_dict(), model_path)\n",
    "    print(f\"Saved model {name} to {model_path}\")\n",
    "\n",
    "# Plotting the results\n",
    "accuracies = [result['accuracy'] for result in results]\n",
    "f1_scores = [result['f1_score'] for result in results]\n",
    "\n",
    "plt.figure(figsize=(12, 6))\n",
    "plt.subplot(1, 2, 1)\n",
    "plt.bar(model_names, accuracies, color='blue')\n",
    "plt.title('Model Accuracies')\n",
    "plt.xlabel('Model')\n",
    "plt.ylabel('Accuracy')\n",
    "plt.xticks(rotation=45)\n",
    "\n",
    "plt.subplot(1, 2, 2)\n",
    "plt.bar(model_names, f1_scores, color='orange')\n",
    "plt.title('Model F1 Scores')\n",
    "plt.xlabel('Model')\n",
    "plt.ylabel('F1 Score')\n",
    "plt.xticks(rotation=45)\n",
    "\n",
    "plt.tight_layout()\n",
    "plt.show()"
   ]
  }
 ],
 "metadata": {
  "kernelspec": {
   "display_name": "Python 3",
   "language": "python",
   "name": "python3"
  },
  "language_info": {
   "codemirror_mode": {
    "name": "ipython",
    "version": 3
   },
   "file_extension": ".py",
   "mimetype": "text/x-python",
   "name": "python",
   "nbconvert_exporter": "python",
   "pygments_lexer": "ipython3",
   "version": "3.8.5"
  }
 },
 "nbformat": 4,
 "nbformat_minor": 4
}